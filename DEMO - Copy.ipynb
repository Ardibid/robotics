{
 "cells": [
  {
   "cell_type": "markdown",
   "metadata": {},
   "source": [
    "# Computer-Robot Communication"
   ]
  },
  {
   "cell_type": "markdown",
   "metadata": {},
   "source": [
    "ArdavanBidgoli <br />\n",
    "CMU School of Architecture <br />\n",
    "Robotic Plastering Project <br />\n",
    "Tested with/for: <br />\n",
    "OpenABB\n",
    "The OpenABB project is adapted from: <br />\n",
    "https://github.com/robotics/open_abb <br />\n",
    "To add multiTasking and communication options, refer to this: <br />\n",
    "https://forums.robotstudio.com/discussion/7839/how-to-add-options-to-already-built-in-system\n",
    "\n",
    "In robot studio:   <br />\n",
    "1- Add the SERVER.mod to the TRob task  <br />\n",
    "2- Add a new task to the robot (RAPID> Controller> Configuration> Task) and add LOGGER.mod to it  <br />\n"
   ]
  },
  {
   "cell_type": "markdown",
   "metadata": {},
   "source": [
    "# All importing and file setup"
   ]
  },
  {
   "cell_type": "code",
   "execution_count": 1,
   "metadata": {
    "collapsed": true
   },
   "outputs": [],
   "source": [
    "from abb import *\n",
    "import copy\n",
    "import sys\n",
    "import os\n",
    "import os.path\n",
    "import json\n",
    "import numpy as np"
   ]
  },
  {
   "cell_type": "markdown",
   "metadata": {},
   "source": [
    "Run this twice!"
   ]
  },
  {
   "cell_type": "code",
   "execution_count": 3,
   "metadata": {},
   "outputs": [],
   "source": [
    "import transformations "
   ]
  },
  {
   "cell_type": "markdown",
   "metadata": {},
   "source": [
    "For the camera functionalities"
   ]
  },
  {
   "cell_type": "code",
   "execution_count": 4,
   "metadata": {
    "collapsed": true
   },
   "outputs": [],
   "source": [
    "import urllib.request"
   ]
  },
  {
   "cell_type": "markdown",
   "metadata": {},
   "source": [
    "### For the IP settings\n",
    "Change tye IP address based on your run, if it is a simulation on the robot studio, use 127.0.0.1, if you are running the real code on the rovbot, use 128.2.109.20"
   ]
  },
  {
   "cell_type": "code",
   "execution_count": 5,
   "metadata": {
    "collapsed": true
   },
   "outputs": [],
   "source": [
    "isSimulation = True"
   ]
  },
  {
   "cell_type": "code",
   "execution_count": 6,
   "metadata": {
    "collapsed": true
   },
   "outputs": [],
   "source": [
    "if isSimulation:\n",
    "    # the test IP for working with robot studio\n",
    "    controllerIP = \"127.0.0.1\"\n",
    "else:\n",
    "    # This is the default IP for ABBs, change it based on your network\n",
    "    controllerIP = \"128.2.109.20\"\n",
    "    \n",
    "\n",
    "serverPort = 5000\n",
    "loggerPort = 5001"
   ]
  },
  {
   "cell_type": "markdown",
   "metadata": {},
   "source": [
    "# Extra Functions"
   ]
  },
  {
   "cell_type": "code",
   "execution_count": 7,
   "metadata": {},
   "outputs": [],
   "source": [
    "class RobotExtra(Robot):\n",
    "\n",
    "    def __init__(self,\n",
    "             ip = '128.2.109.20',\n",
    "             port_motion = 5000,\n",
    "             port_logger = 5001):\n",
    "        print (\"Making a robot: \\nIP: \\t\\t%s \\nMotion Port: \\t%d \\nMotion Port: \\t%d\"\n",
    "                                                       %(ip, port_motion, port_logger))\n",
    "        \n",
    "        super().__init__(ip, port_motion, port_logger)\n",
    "        \n",
    "\n",
    "    def logger(self,message, fileName=\"log.txt\",path = \"./\"):\n",
    "        filePath = os.path.join(path, fileName)    \n",
    "        with open(filePath, \"wt\") as myfile:\n",
    "            myfile.write(message)\n",
    "            myfile.close()\n",
    "        print (message)   "
   ]
  },
  {
   "cell_type": "markdown",
   "metadata": {},
   "source": [
    "# Helper functions"
   ]
  },
  {
   "cell_type": "code",
   "execution_count": 8,
   "metadata": {
    "collapsed": true
   },
   "outputs": [],
   "source": [
    "def goHome(robot, motion = 'cor'):\n",
    "    # 'cor' for set_cartesian \n",
    "    # 'jnt' for set_joint\n",
    "    if motion == 'cor':\n",
    "        return robot.set_cartesian(homeCor)\n",
    "    elif motion == 'jnt':\n",
    "        return robot.set_joints(homeJnt)\n",
    "\n",
    "def trigger_(delay = 2):\n",
    "    print (\"Taking a shot...\")\n",
    "    urllib.request.urlopen('http://10.5.5.9/gp/gpControl/command/shutter?p=1')\n",
    "    time.sleep(delay)\n",
    "    #print (\"Image is captured\")\n",
    "\n",
    "def makePath(robot, dimension = 100 , size = 3):\n",
    "    path = []\n",
    "    pose = robot.get_cartesian()\n",
    "    x, y = pose[0][0] , pose[0][1]\n",
    "    print (x,y)\n",
    "    for i in range (size):\n",
    "        pose[0][0] = x\n",
    "        x += dimension\n",
    "        for j in range (size):\n",
    "            pose[0][1] = y\n",
    "            y += dimension\n",
    "            print (pose)\n",
    "            newPose = copy.deepcopy(pose)\n",
    "            path.append(pose)\n",
    "    return path\n",
    "\n",
    "def euToQu(rot):\n",
    "    # rot is a list of length 3, [x,y,z] rotations\n",
    "    if type(rot) != list or len(rot) != 3: return None\n",
    "    rot = np.deg2rad(rot)\n",
    "    return transformations.quaternion_from_euler(rot[0],rot[1],rot[2],'sxyz')\n",
    "    \n",
    "def quToEu(rot):\n",
    "    # rot is a list of length 4, [q1,q2,q3,q4] rotations\n",
    "    if type(rot) != list or len(rot) != 4: return None\n",
    "    result =  transformations.euler_from_quaternion(rot)\n",
    "    return  np.rad2deg(result)"
   ]
  },
  {
   "cell_type": "markdown",
   "metadata": {},
   "source": [
    "## Setting the Robot"
   ]
  },
  {
   "cell_type": "code",
   "execution_count": 9,
   "metadata": {},
   "outputs": [
    {
     "name": "stdout",
     "output_type": "stream",
     "text": [
      "Making a robot: \n",
      "IP: \t\t127.0.0.1 \n",
      "Motion Port: \t5000 \n",
      "Motion Port: \t5001\n",
      "Robot is created!\n"
     ]
    }
   ],
   "source": [
    "# initiate an instance of robot class\n",
    "myRobot = RobotExtra(ip = controllerIP)\n",
    "print (\"Robot is created!\")\n",
    "# Setting the environment\n",
    "myRobot.set_units('millimeters','degrees')\n",
    "myRobot.set_tool([[0,0,0], [1,0,0,0]])\n",
    "myRobot.set_workobject([[0,0,0],[1,0,0,0]])\n",
    "\n",
    "# set speed and zone \n",
    "myRobot.set_speed([1000,100,100,100])\n",
    "myRobot.set_zone(zone_key='z0')\n",
    "\n",
    "# define your home coordination and joint configuration\n",
    "homeCor = [[1500,0,1500],[0,1,0,0]]\n",
    "homeJnt = [0.0, 0.0, -0.0, 0.0, 30.0, -0.0]"
   ]
  },
  {
   "cell_type": "markdown",
   "metadata": {},
   "source": [
    "## A test for surface scan\n",
    "Make sure that you have an appropriate quaternion value for all the points <br />\n",
    "The points in the grid are in this order: TopLeft, TopRight, BottomRight, BottomLeft"
   ]
  },
  {
   "cell_type": "markdown",
   "metadata": {},
   "source": [
    "# Some extra functions as reminder\n",
    "### Report the status\n",
    "It is a simple report like this:  <br />\n",
    "['1 VIRTUAL_USE', 'ROBOTWARE_6.03.2009', \"IRB 6640-130/3.20'\"]"
   ]
  },
  {
   "cell_type": "code",
   "execution_count": 10,
   "metadata": {},
   "outputs": [
    {
     "data": {
      "text/plain": [
       "['1 VIRTUAL_USE', 'ROBOTWARE_6.05.1049', \"IRB 6640-185/2.75 LeanID'\"]"
      ]
     },
     "execution_count": 10,
     "metadata": {},
     "output_type": "execute_result"
    }
   ],
   "source": [
    "myRobot.get_robotinfo()"
   ]
  },
  {
   "cell_type": "markdown",
   "metadata": {},
   "source": [
    "Getting robot's current coordinations and joints"
   ]
  },
  {
   "cell_type": "code",
   "execution_count": 11,
   "metadata": {},
   "outputs": [
    {
     "name": "stdout",
     "output_type": "stream",
     "text": [
      "[[1764.74, 0.0, 2085.5], [0.5, 0.0, 0.866, 0.0]]\n",
      "[0.0, 0.0, -0.0, 0.0, 30.0, -0.0]\n"
     ]
    }
   ],
   "source": [
    "print (myRobot.get_cartesian())\n",
    "print (myRobot.get_joints())"
   ]
  },
  {
   "cell_type": "markdown",
   "metadata": {},
   "source": [
    "### Motion Commands\n",
    "at the end of set_cartesian it returns: b'1 1 ' <br />\n",
    "at the end of set_joints it returns: b'2 1 '"
   ]
  },
  {
   "cell_type": "code",
   "execution_count": 13,
   "metadata": {},
   "outputs": [
    {
     "data": {
      "text/plain": [
       "b'1 1 '"
      ]
     },
     "execution_count": 13,
     "metadata": {},
     "output_type": "execute_result"
    }
   ],
   "source": [
    "# Define a coordination\n",
    "c1 = [[1400,100,1600],[0,1,0,0]]\n",
    "# move the robot to the designated coordination\n",
    "myRobot.set_cartesian(c1)\n"
   ]
  },
  {
   "cell_type": "code",
   "execution_count": 14,
   "metadata": {},
   "outputs": [
    {
     "data": {
      "text/plain": [
       "b'2 1 '"
      ]
     },
     "execution_count": 14,
     "metadata": {},
     "output_type": "execute_result"
    }
   ],
   "source": [
    "# Define a joint setup \n",
    "j1 = [0.0, 0.0, -0.0, 0.0, 00.0, -0.0]\n",
    "# move the robot to set joints to these values\n",
    "myRobot.set_joints(j1)"
   ]
  },
  {
   "cell_type": "code",
   "execution_count": 15,
   "metadata": {},
   "outputs": [],
   "source": [
    "myRobot.close()"
   ]
  }
 ],
 "metadata": {
  "kernelspec": {
   "display_name": "Python 3",
   "language": "python",
   "name": "python3"
  },
  "language_info": {
   "codemirror_mode": {
    "name": "ipython",
    "version": 3
   },
   "file_extension": ".py",
   "mimetype": "text/x-python",
   "name": "python",
   "nbconvert_exporter": "python",
   "pygments_lexer": "ipython3",
   "version": "3.6.3"
  }
 },
 "nbformat": 4,
 "nbformat_minor": 2
}
